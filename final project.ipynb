{
 "cells": [
  {
   "cell_type": "code",
   "execution_count": 1,
   "metadata": {},
   "outputs": [],
   "source": [
    "import numpy as np\n",
    "import pandas as pd\n",
    "import matplotlib.pyplot as plt\n",
    "import seaborn as sns; sns.set()"
   ]
  },
  {
   "cell_type": "code",
   "execution_count": 2,
   "metadata": {},
   "outputs": [],
   "source": [
    "from sklearn.linear_model import LinearRegression, Lasso, Ridge\n",
    "from sklearn.model_selection import train_test_split, cross_val_score\n",
    "from sklearn.metrics import mean_squared_error, accuracy_score"
   ]
  },
  {
   "cell_type": "code",
   "execution_count": 3,
   "metadata": {},
   "outputs": [],
   "source": [
    "# create a DataFrame\n",
    "df = pd.read_csv('Life Expectancy Data.csv')"
   ]
  },
  {
   "cell_type": "markdown",
   "metadata": {},
   "source": [
    "# EDA"
   ]
  },
  {
   "cell_type": "code",
   "execution_count": 5,
   "metadata": {},
   "outputs": [
    {
     "data": {
      "text/plain": [
       "(2938, 22)"
      ]
     },
     "execution_count": 5,
     "metadata": {},
     "output_type": "execute_result"
    }
   ],
   "source": [
    "df.shape"
   ]
  },
  {
   "cell_type": "code",
   "execution_count": 6,
   "metadata": {},
   "outputs": [
    {
     "data": {
      "text/plain": [
       "Index(['Country', 'Year', 'Status', 'Life expectancy ', 'Adult Mortality',\n",
       "       'infant deaths', 'Alcohol', 'percentage expenditure', 'Hepatitis B',\n",
       "       'Measles ', ' BMI ', 'under-five deaths ', 'Polio', 'Total expenditure',\n",
       "       'Diphtheria ', ' HIV/AIDS', 'GDP', 'Population',\n",
       "       ' thinness  1-19 years', ' thinness 5-9 years',\n",
       "       'Income composition of resources', 'Schooling'],\n",
       "      dtype='object')"
      ]
     },
     "execution_count": 6,
     "metadata": {},
     "output_type": "execute_result"
    }
   ],
   "source": [
    "df.columns"
   ]
  },
  {
   "cell_type": "code",
   "execution_count": 7,
   "metadata": {},
   "outputs": [
    {
     "name": "stdout",
     "output_type": "stream",
     "text": [
      "<class 'pandas.core.frame.DataFrame'>\n",
      "RangeIndex: 2938 entries, 0 to 2937\n",
      "Data columns (total 22 columns):\n",
      " #   Column                           Non-Null Count  Dtype  \n",
      "---  ------                           --------------  -----  \n",
      " 0   Country                          2938 non-null   object \n",
      " 1   Year                             2938 non-null   int64  \n",
      " 2   Status                           2938 non-null   object \n",
      " 3   Life expectancy                  2928 non-null   float64\n",
      " 4   Adult Mortality                  2928 non-null   float64\n",
      " 5   infant deaths                    2938 non-null   int64  \n",
      " 6   Alcohol                          2744 non-null   float64\n",
      " 7   percentage expenditure           2938 non-null   float64\n",
      " 8   Hepatitis B                      2385 non-null   float64\n",
      " 9   Measles                          2938 non-null   int64  \n",
      " 10   BMI                             2904 non-null   float64\n",
      " 11  under-five deaths                2938 non-null   int64  \n",
      " 12  Polio                            2919 non-null   float64\n",
      " 13  Total expenditure                2712 non-null   float64\n",
      " 14  Diphtheria                       2919 non-null   float64\n",
      " 15   HIV/AIDS                        2938 non-null   float64\n",
      " 16  GDP                              2490 non-null   float64\n",
      " 17  Population                       2286 non-null   float64\n",
      " 18   thinness  1-19 years            2904 non-null   float64\n",
      " 19   thinness 5-9 years              2904 non-null   float64\n",
      " 20  Income composition of resources  2771 non-null   float64\n",
      " 21  Schooling                        2775 non-null   float64\n",
      "dtypes: float64(16), int64(4), object(2)\n",
      "memory usage: 505.1+ KB\n"
     ]
    }
   ],
   "source": [
    "df.info()\n"
   ]
  },
  {
   "cell_type": "code",
   "execution_count": 8,
   "metadata": {},
   "outputs": [
    {
     "data": {
      "text/plain": [
       "Country                              0\n",
       "Year                                 0\n",
       "Status                               0\n",
       "Life expectancy                     10\n",
       "Adult Mortality                     10\n",
       "infant deaths                        0\n",
       "Alcohol                            194\n",
       "percentage expenditure               0\n",
       "Hepatitis B                        553\n",
       "Measles                              0\n",
       " BMI                                34\n",
       "under-five deaths                    0\n",
       "Polio                               19\n",
       "Total expenditure                  226\n",
       "Diphtheria                          19\n",
       " HIV/AIDS                            0\n",
       "GDP                                448\n",
       "Population                         652\n",
       " thinness  1-19 years               34\n",
       " thinness 5-9 years                 34\n",
       "Income composition of resources    167\n",
       "Schooling                          163\n",
       "dtype: int64"
      ]
     },
     "execution_count": 8,
     "metadata": {},
     "output_type": "execute_result"
    }
   ],
   "source": [
    "df.isnull().sum(axis=0)"
   ]
  },
  {
   "cell_type": "code",
   "execution_count": 9,
   "metadata": {},
   "outputs": [],
   "source": [
    "# deleting the null values\n",
    "before_drop = df.shape[0]\n",
    "df = df.dropna()\n",
    "after_drop = df.shape[0]"
   ]
  },
  {
   "cell_type": "code",
   "execution_count": 10,
   "metadata": {},
   "outputs": [
    {
     "name": "stdout",
     "output_type": "stream",
     "text": [
      "rows before droping nulls: 2938\n",
      "rows after droping nulls: 1649\n"
     ]
    }
   ],
   "source": [
    "print('rows before droping nulls:', before_drop)\n",
    "print('rows after droping nulls:', after_drop)"
   ]
  },
  {
   "cell_type": "code",
   "execution_count": 11,
   "metadata": {},
   "outputs": [
    {
     "data": {
      "text/html": [
       "<div>\n",
       "<style scoped>\n",
       "    .dataframe tbody tr th:only-of-type {\n",
       "        vertical-align: middle;\n",
       "    }\n",
       "\n",
       "    .dataframe tbody tr th {\n",
       "        vertical-align: top;\n",
       "    }\n",
       "\n",
       "    .dataframe thead th {\n",
       "        text-align: right;\n",
       "    }\n",
       "</style>\n",
       "<table border=\"1\" class=\"dataframe\">\n",
       "  <thead>\n",
       "    <tr style=\"text-align: right;\">\n",
       "      <th></th>\n",
       "      <th>Country</th>\n",
       "      <th>Year</th>\n",
       "      <th>Status</th>\n",
       "      <th>Life expectancy</th>\n",
       "      <th>Adult Mortality</th>\n",
       "      <th>infant deaths</th>\n",
       "      <th>Alcohol</th>\n",
       "      <th>percentage expenditure</th>\n",
       "      <th>Hepatitis B</th>\n",
       "      <th>Measles</th>\n",
       "      <th>...</th>\n",
       "      <th>Polio</th>\n",
       "      <th>Total expenditure</th>\n",
       "      <th>Diphtheria</th>\n",
       "      <th>HIV/AIDS</th>\n",
       "      <th>GDP</th>\n",
       "      <th>Population</th>\n",
       "      <th>thinness  1-19 years</th>\n",
       "      <th>thinness 5-9 years</th>\n",
       "      <th>Income composition of resources</th>\n",
       "      <th>Schooling</th>\n",
       "    </tr>\n",
       "  </thead>\n",
       "  <tbody>\n",
       "    <tr>\n",
       "      <th>0</th>\n",
       "      <td>Afghanistan</td>\n",
       "      <td>2015</td>\n",
       "      <td>Developing</td>\n",
       "      <td>65.0</td>\n",
       "      <td>263.0</td>\n",
       "      <td>62</td>\n",
       "      <td>0.01</td>\n",
       "      <td>71.279624</td>\n",
       "      <td>65.0</td>\n",
       "      <td>1154</td>\n",
       "      <td>...</td>\n",
       "      <td>6.0</td>\n",
       "      <td>8.16</td>\n",
       "      <td>65.0</td>\n",
       "      <td>0.1</td>\n",
       "      <td>584.259210</td>\n",
       "      <td>33736494.0</td>\n",
       "      <td>17.2</td>\n",
       "      <td>17.3</td>\n",
       "      <td>0.479</td>\n",
       "      <td>10.1</td>\n",
       "    </tr>\n",
       "    <tr>\n",
       "      <th>1</th>\n",
       "      <td>Afghanistan</td>\n",
       "      <td>2014</td>\n",
       "      <td>Developing</td>\n",
       "      <td>59.9</td>\n",
       "      <td>271.0</td>\n",
       "      <td>64</td>\n",
       "      <td>0.01</td>\n",
       "      <td>73.523582</td>\n",
       "      <td>62.0</td>\n",
       "      <td>492</td>\n",
       "      <td>...</td>\n",
       "      <td>58.0</td>\n",
       "      <td>8.18</td>\n",
       "      <td>62.0</td>\n",
       "      <td>0.1</td>\n",
       "      <td>612.696514</td>\n",
       "      <td>327582.0</td>\n",
       "      <td>17.5</td>\n",
       "      <td>17.5</td>\n",
       "      <td>0.476</td>\n",
       "      <td>10.0</td>\n",
       "    </tr>\n",
       "    <tr>\n",
       "      <th>2</th>\n",
       "      <td>Afghanistan</td>\n",
       "      <td>2013</td>\n",
       "      <td>Developing</td>\n",
       "      <td>59.9</td>\n",
       "      <td>268.0</td>\n",
       "      <td>66</td>\n",
       "      <td>0.01</td>\n",
       "      <td>73.219243</td>\n",
       "      <td>64.0</td>\n",
       "      <td>430</td>\n",
       "      <td>...</td>\n",
       "      <td>62.0</td>\n",
       "      <td>8.13</td>\n",
       "      <td>64.0</td>\n",
       "      <td>0.1</td>\n",
       "      <td>631.744976</td>\n",
       "      <td>31731688.0</td>\n",
       "      <td>17.7</td>\n",
       "      <td>17.7</td>\n",
       "      <td>0.470</td>\n",
       "      <td>9.9</td>\n",
       "    </tr>\n",
       "    <tr>\n",
       "      <th>3</th>\n",
       "      <td>Afghanistan</td>\n",
       "      <td>2012</td>\n",
       "      <td>Developing</td>\n",
       "      <td>59.5</td>\n",
       "      <td>272.0</td>\n",
       "      <td>69</td>\n",
       "      <td>0.01</td>\n",
       "      <td>78.184215</td>\n",
       "      <td>67.0</td>\n",
       "      <td>2787</td>\n",
       "      <td>...</td>\n",
       "      <td>67.0</td>\n",
       "      <td>8.52</td>\n",
       "      <td>67.0</td>\n",
       "      <td>0.1</td>\n",
       "      <td>669.959000</td>\n",
       "      <td>3696958.0</td>\n",
       "      <td>17.9</td>\n",
       "      <td>18.0</td>\n",
       "      <td>0.463</td>\n",
       "      <td>9.8</td>\n",
       "    </tr>\n",
       "    <tr>\n",
       "      <th>4</th>\n",
       "      <td>Afghanistan</td>\n",
       "      <td>2011</td>\n",
       "      <td>Developing</td>\n",
       "      <td>59.2</td>\n",
       "      <td>275.0</td>\n",
       "      <td>71</td>\n",
       "      <td>0.01</td>\n",
       "      <td>7.097109</td>\n",
       "      <td>68.0</td>\n",
       "      <td>3013</td>\n",
       "      <td>...</td>\n",
       "      <td>68.0</td>\n",
       "      <td>7.87</td>\n",
       "      <td>68.0</td>\n",
       "      <td>0.1</td>\n",
       "      <td>63.537231</td>\n",
       "      <td>2978599.0</td>\n",
       "      <td>18.2</td>\n",
       "      <td>18.2</td>\n",
       "      <td>0.454</td>\n",
       "      <td>9.5</td>\n",
       "    </tr>\n",
       "  </tbody>\n",
       "</table>\n",
       "<p>5 rows × 22 columns</p>\n",
       "</div>"
      ],
      "text/plain": [
       "       Country  Year      Status  Life expectancy   Adult Mortality  \\\n",
       "0  Afghanistan  2015  Developing              65.0            263.0   \n",
       "1  Afghanistan  2014  Developing              59.9            271.0   \n",
       "2  Afghanistan  2013  Developing              59.9            268.0   \n",
       "3  Afghanistan  2012  Developing              59.5            272.0   \n",
       "4  Afghanistan  2011  Developing              59.2            275.0   \n",
       "\n",
       "   infant deaths  Alcohol  percentage expenditure  Hepatitis B  Measles   ...  \\\n",
       "0             62     0.01               71.279624         65.0      1154  ...   \n",
       "1             64     0.01               73.523582         62.0       492  ...   \n",
       "2             66     0.01               73.219243         64.0       430  ...   \n",
       "3             69     0.01               78.184215         67.0      2787  ...   \n",
       "4             71     0.01                7.097109         68.0      3013  ...   \n",
       "\n",
       "   Polio  Total expenditure  Diphtheria    HIV/AIDS         GDP  Population  \\\n",
       "0    6.0               8.16         65.0        0.1  584.259210  33736494.0   \n",
       "1   58.0               8.18         62.0        0.1  612.696514    327582.0   \n",
       "2   62.0               8.13         64.0        0.1  631.744976  31731688.0   \n",
       "3   67.0               8.52         67.0        0.1  669.959000   3696958.0   \n",
       "4   68.0               7.87         68.0        0.1   63.537231   2978599.0   \n",
       "\n",
       "    thinness  1-19 years   thinness 5-9 years  \\\n",
       "0                   17.2                 17.3   \n",
       "1                   17.5                 17.5   \n",
       "2                   17.7                 17.7   \n",
       "3                   17.9                 18.0   \n",
       "4                   18.2                 18.2   \n",
       "\n",
       "   Income composition of resources  Schooling  \n",
       "0                            0.479       10.1  \n",
       "1                            0.476       10.0  \n",
       "2                            0.470        9.9  \n",
       "3                            0.463        9.8  \n",
       "4                            0.454        9.5  \n",
       "\n",
       "[5 rows x 22 columns]"
      ]
     },
     "execution_count": 11,
     "metadata": {},
     "output_type": "execute_result"
    }
   ],
   "source": [
    "df.head()"
   ]
  },
  {
   "cell_type": "code",
   "execution_count": 12,
   "metadata": {},
   "outputs": [
    {
     "name": "stdout",
     "output_type": "stream",
     "text": [
      "<class 'pandas.core.frame.DataFrame'>\n",
      "Int64Index: 1649 entries, 0 to 2937\n",
      "Data columns (total 22 columns):\n",
      " #   Column                           Non-Null Count  Dtype  \n",
      "---  ------                           --------------  -----  \n",
      " 0   Country                          1649 non-null   object \n",
      " 1   Year                             1649 non-null   int64  \n",
      " 2   Status                           1649 non-null   object \n",
      " 3   Life expectancy                  1649 non-null   float64\n",
      " 4   Adult Mortality                  1649 non-null   float64\n",
      " 5   infant deaths                    1649 non-null   int64  \n",
      " 6   Alcohol                          1649 non-null   float64\n",
      " 7   percentage expenditure           1649 non-null   float64\n",
      " 8   Hepatitis B                      1649 non-null   float64\n",
      " 9   Measles                          1649 non-null   int64  \n",
      " 10   BMI                             1649 non-null   float64\n",
      " 11  under-five deaths                1649 non-null   int64  \n",
      " 12  Polio                            1649 non-null   float64\n",
      " 13  Total expenditure                1649 non-null   float64\n",
      " 14  Diphtheria                       1649 non-null   float64\n",
      " 15   HIV/AIDS                        1649 non-null   float64\n",
      " 16  GDP                              1649 non-null   float64\n",
      " 17  Population                       1649 non-null   float64\n",
      " 18   thinness  1-19 years            1649 non-null   float64\n",
      " 19   thinness 5-9 years              1649 non-null   float64\n",
      " 20  Income composition of resources  1649 non-null   float64\n",
      " 21  Schooling                        1649 non-null   float64\n",
      "dtypes: float64(16), int64(4), object(2)\n",
      "memory usage: 296.3+ KB\n"
     ]
    }
   ],
   "source": [
    "df.info()"
   ]
  },
  {
   "cell_type": "code",
   "execution_count": 56,
   "metadata": {},
   "outputs": [
    {
     "data": {
      "text/html": [
       "<div>\n",
       "<style scoped>\n",
       "    .dataframe tbody tr th:only-of-type {\n",
       "        vertical-align: middle;\n",
       "    }\n",
       "\n",
       "    .dataframe tbody tr th {\n",
       "        vertical-align: top;\n",
       "    }\n",
       "\n",
       "    .dataframe thead th {\n",
       "        text-align: right;\n",
       "    }\n",
       "</style>\n",
       "<table border=\"1\" class=\"dataframe\">\n",
       "  <thead>\n",
       "    <tr style=\"text-align: right;\">\n",
       "      <th></th>\n",
       "      <th>count</th>\n",
       "      <th>mean</th>\n",
       "      <th>std</th>\n",
       "      <th>min</th>\n",
       "      <th>25%</th>\n",
       "      <th>50%</th>\n",
       "      <th>75%</th>\n",
       "      <th>max</th>\n",
       "    </tr>\n",
       "  </thead>\n",
       "  <tbody>\n",
       "    <tr>\n",
       "      <th>Life expectancy</th>\n",
       "      <td>1649.0</td>\n",
       "      <td>6.930230e+01</td>\n",
       "      <td>8.796834e+00</td>\n",
       "      <td>44.00000</td>\n",
       "      <td>64.400000</td>\n",
       "      <td>7.170000e+01</td>\n",
       "      <td>7.500000e+01</td>\n",
       "      <td>8.900000e+01</td>\n",
       "    </tr>\n",
       "    <tr>\n",
       "      <th>Adult Mortality</th>\n",
       "      <td>1649.0</td>\n",
       "      <td>1.682153e+02</td>\n",
       "      <td>1.253104e+02</td>\n",
       "      <td>1.00000</td>\n",
       "      <td>77.000000</td>\n",
       "      <td>1.480000e+02</td>\n",
       "      <td>2.270000e+02</td>\n",
       "      <td>7.230000e+02</td>\n",
       "    </tr>\n",
       "    <tr>\n",
       "      <th>infant deaths</th>\n",
       "      <td>1649.0</td>\n",
       "      <td>3.255306e+01</td>\n",
       "      <td>1.208472e+02</td>\n",
       "      <td>0.00000</td>\n",
       "      <td>1.000000</td>\n",
       "      <td>3.000000e+00</td>\n",
       "      <td>2.200000e+01</td>\n",
       "      <td>1.600000e+03</td>\n",
       "    </tr>\n",
       "    <tr>\n",
       "      <th>Alcohol</th>\n",
       "      <td>1649.0</td>\n",
       "      <td>4.533196e+00</td>\n",
       "      <td>4.029189e+00</td>\n",
       "      <td>0.01000</td>\n",
       "      <td>0.810000</td>\n",
       "      <td>3.790000e+00</td>\n",
       "      <td>7.340000e+00</td>\n",
       "      <td>1.787000e+01</td>\n",
       "    </tr>\n",
       "    <tr>\n",
       "      <th>percentage expenditure</th>\n",
       "      <td>1649.0</td>\n",
       "      <td>6.989736e+02</td>\n",
       "      <td>1.759229e+03</td>\n",
       "      <td>0.00000</td>\n",
       "      <td>37.438577</td>\n",
       "      <td>1.451023e+02</td>\n",
       "      <td>5.093900e+02</td>\n",
       "      <td>1.896135e+04</td>\n",
       "    </tr>\n",
       "    <tr>\n",
       "      <th>Hepatitis B</th>\n",
       "      <td>1649.0</td>\n",
       "      <td>7.921771e+01</td>\n",
       "      <td>2.560466e+01</td>\n",
       "      <td>2.00000</td>\n",
       "      <td>74.000000</td>\n",
       "      <td>8.900000e+01</td>\n",
       "      <td>9.600000e+01</td>\n",
       "      <td>9.900000e+01</td>\n",
       "    </tr>\n",
       "    <tr>\n",
       "      <th>Measles</th>\n",
       "      <td>1649.0</td>\n",
       "      <td>2.224494e+03</td>\n",
       "      <td>1.008580e+04</td>\n",
       "      <td>0.00000</td>\n",
       "      <td>0.000000</td>\n",
       "      <td>1.500000e+01</td>\n",
       "      <td>3.730000e+02</td>\n",
       "      <td>1.314410e+05</td>\n",
       "    </tr>\n",
       "    <tr>\n",
       "      <th>BMI</th>\n",
       "      <td>1649.0</td>\n",
       "      <td>3.812862e+01</td>\n",
       "      <td>1.975425e+01</td>\n",
       "      <td>2.00000</td>\n",
       "      <td>19.500000</td>\n",
       "      <td>4.370000e+01</td>\n",
       "      <td>5.580000e+01</td>\n",
       "      <td>7.710000e+01</td>\n",
       "    </tr>\n",
       "    <tr>\n",
       "      <th>under-five deaths</th>\n",
       "      <td>1649.0</td>\n",
       "      <td>4.422013e+01</td>\n",
       "      <td>1.628980e+02</td>\n",
       "      <td>0.00000</td>\n",
       "      <td>1.000000</td>\n",
       "      <td>4.000000e+00</td>\n",
       "      <td>2.900000e+01</td>\n",
       "      <td>2.100000e+03</td>\n",
       "    </tr>\n",
       "    <tr>\n",
       "      <th>Polio</th>\n",
       "      <td>1649.0</td>\n",
       "      <td>8.356458e+01</td>\n",
       "      <td>2.245056e+01</td>\n",
       "      <td>3.00000</td>\n",
       "      <td>81.000000</td>\n",
       "      <td>9.300000e+01</td>\n",
       "      <td>9.700000e+01</td>\n",
       "      <td>9.900000e+01</td>\n",
       "    </tr>\n",
       "    <tr>\n",
       "      <th>Total expenditure</th>\n",
       "      <td>1649.0</td>\n",
       "      <td>5.955925e+00</td>\n",
       "      <td>2.299385e+00</td>\n",
       "      <td>0.74000</td>\n",
       "      <td>4.410000</td>\n",
       "      <td>5.840000e+00</td>\n",
       "      <td>7.470000e+00</td>\n",
       "      <td>1.439000e+01</td>\n",
       "    </tr>\n",
       "    <tr>\n",
       "      <th>Diphtheria</th>\n",
       "      <td>1649.0</td>\n",
       "      <td>8.415525e+01</td>\n",
       "      <td>2.157919e+01</td>\n",
       "      <td>2.00000</td>\n",
       "      <td>82.000000</td>\n",
       "      <td>9.200000e+01</td>\n",
       "      <td>9.700000e+01</td>\n",
       "      <td>9.900000e+01</td>\n",
       "    </tr>\n",
       "    <tr>\n",
       "      <th>HIV/AIDS</th>\n",
       "      <td>1649.0</td>\n",
       "      <td>1.983869e+00</td>\n",
       "      <td>6.032360e+00</td>\n",
       "      <td>0.10000</td>\n",
       "      <td>0.100000</td>\n",
       "      <td>1.000000e-01</td>\n",
       "      <td>7.000000e-01</td>\n",
       "      <td>5.060000e+01</td>\n",
       "    </tr>\n",
       "    <tr>\n",
       "      <th>GDP</th>\n",
       "      <td>1649.0</td>\n",
       "      <td>5.566032e+03</td>\n",
       "      <td>1.147590e+04</td>\n",
       "      <td>1.68135</td>\n",
       "      <td>462.149650</td>\n",
       "      <td>1.592572e+03</td>\n",
       "      <td>4.718513e+03</td>\n",
       "      <td>1.191727e+05</td>\n",
       "    </tr>\n",
       "    <tr>\n",
       "      <th>Population</th>\n",
       "      <td>1649.0</td>\n",
       "      <td>1.465363e+07</td>\n",
       "      <td>7.046039e+07</td>\n",
       "      <td>34.00000</td>\n",
       "      <td>191897.000000</td>\n",
       "      <td>1.419631e+06</td>\n",
       "      <td>7.658972e+06</td>\n",
       "      <td>1.293859e+09</td>\n",
       "    </tr>\n",
       "    <tr>\n",
       "      <th>thinness  1-19 years</th>\n",
       "      <td>1649.0</td>\n",
       "      <td>4.850637e+00</td>\n",
       "      <td>4.599228e+00</td>\n",
       "      <td>0.10000</td>\n",
       "      <td>1.600000</td>\n",
       "      <td>3.000000e+00</td>\n",
       "      <td>7.100000e+00</td>\n",
       "      <td>2.720000e+01</td>\n",
       "    </tr>\n",
       "    <tr>\n",
       "      <th>thinness 5-9 years</th>\n",
       "      <td>1649.0</td>\n",
       "      <td>4.907762e+00</td>\n",
       "      <td>4.653757e+00</td>\n",
       "      <td>0.10000</td>\n",
       "      <td>1.700000</td>\n",
       "      <td>3.200000e+00</td>\n",
       "      <td>7.100000e+00</td>\n",
       "      <td>2.820000e+01</td>\n",
       "    </tr>\n",
       "    <tr>\n",
       "      <th>Income composition of resources</th>\n",
       "      <td>1649.0</td>\n",
       "      <td>6.315512e-01</td>\n",
       "      <td>1.830887e-01</td>\n",
       "      <td>0.00000</td>\n",
       "      <td>0.509000</td>\n",
       "      <td>6.730000e-01</td>\n",
       "      <td>7.510000e-01</td>\n",
       "      <td>9.360000e-01</td>\n",
       "    </tr>\n",
       "    <tr>\n",
       "      <th>Schooling</th>\n",
       "      <td>1649.0</td>\n",
       "      <td>1.211989e+01</td>\n",
       "      <td>2.795388e+00</td>\n",
       "      <td>4.20000</td>\n",
       "      <td>10.300000</td>\n",
       "      <td>1.230000e+01</td>\n",
       "      <td>1.400000e+01</td>\n",
       "      <td>2.070000e+01</td>\n",
       "    </tr>\n",
       "  </tbody>\n",
       "</table>\n",
       "</div>"
      ],
      "text/plain": [
       "                                  count          mean           std       min  \\\n",
       "Life expectancy                  1649.0  6.930230e+01  8.796834e+00  44.00000   \n",
       "Adult Mortality                  1649.0  1.682153e+02  1.253104e+02   1.00000   \n",
       "infant deaths                    1649.0  3.255306e+01  1.208472e+02   0.00000   \n",
       "Alcohol                          1649.0  4.533196e+00  4.029189e+00   0.01000   \n",
       "percentage expenditure           1649.0  6.989736e+02  1.759229e+03   0.00000   \n",
       "Hepatitis B                      1649.0  7.921771e+01  2.560466e+01   2.00000   \n",
       "Measles                          1649.0  2.224494e+03  1.008580e+04   0.00000   \n",
       " BMI                             1649.0  3.812862e+01  1.975425e+01   2.00000   \n",
       "under-five deaths                1649.0  4.422013e+01  1.628980e+02   0.00000   \n",
       "Polio                            1649.0  8.356458e+01  2.245056e+01   3.00000   \n",
       "Total expenditure                1649.0  5.955925e+00  2.299385e+00   0.74000   \n",
       "Diphtheria                       1649.0  8.415525e+01  2.157919e+01   2.00000   \n",
       " HIV/AIDS                        1649.0  1.983869e+00  6.032360e+00   0.10000   \n",
       "GDP                              1649.0  5.566032e+03  1.147590e+04   1.68135   \n",
       "Population                       1649.0  1.465363e+07  7.046039e+07  34.00000   \n",
       " thinness  1-19 years            1649.0  4.850637e+00  4.599228e+00   0.10000   \n",
       " thinness 5-9 years              1649.0  4.907762e+00  4.653757e+00   0.10000   \n",
       "Income composition of resources  1649.0  6.315512e-01  1.830887e-01   0.00000   \n",
       "Schooling                        1649.0  1.211989e+01  2.795388e+00   4.20000   \n",
       "\n",
       "                                           25%           50%           75%  \\\n",
       "Life expectancy                      64.400000  7.170000e+01  7.500000e+01   \n",
       "Adult Mortality                      77.000000  1.480000e+02  2.270000e+02   \n",
       "infant deaths                         1.000000  3.000000e+00  2.200000e+01   \n",
       "Alcohol                               0.810000  3.790000e+00  7.340000e+00   \n",
       "percentage expenditure               37.438577  1.451023e+02  5.093900e+02   \n",
       "Hepatitis B                          74.000000  8.900000e+01  9.600000e+01   \n",
       "Measles                               0.000000  1.500000e+01  3.730000e+02   \n",
       " BMI                                 19.500000  4.370000e+01  5.580000e+01   \n",
       "under-five deaths                     1.000000  4.000000e+00  2.900000e+01   \n",
       "Polio                                81.000000  9.300000e+01  9.700000e+01   \n",
       "Total expenditure                     4.410000  5.840000e+00  7.470000e+00   \n",
       "Diphtheria                           82.000000  9.200000e+01  9.700000e+01   \n",
       " HIV/AIDS                             0.100000  1.000000e-01  7.000000e-01   \n",
       "GDP                                 462.149650  1.592572e+03  4.718513e+03   \n",
       "Population                       191897.000000  1.419631e+06  7.658972e+06   \n",
       " thinness  1-19 years                 1.600000  3.000000e+00  7.100000e+00   \n",
       " thinness 5-9 years                   1.700000  3.200000e+00  7.100000e+00   \n",
       "Income composition of resources       0.509000  6.730000e-01  7.510000e-01   \n",
       "Schooling                            10.300000  1.230000e+01  1.400000e+01   \n",
       "\n",
       "                                          max  \n",
       "Life expectancy                  8.900000e+01  \n",
       "Adult Mortality                  7.230000e+02  \n",
       "infant deaths                    1.600000e+03  \n",
       "Alcohol                          1.787000e+01  \n",
       "percentage expenditure           1.896135e+04  \n",
       "Hepatitis B                      9.900000e+01  \n",
       "Measles                          1.314410e+05  \n",
       " BMI                             7.710000e+01  \n",
       "under-five deaths                2.100000e+03  \n",
       "Polio                            9.900000e+01  \n",
       "Total expenditure                1.439000e+01  \n",
       "Diphtheria                       9.900000e+01  \n",
       " HIV/AIDS                        5.060000e+01  \n",
       "GDP                              1.191727e+05  \n",
       "Population                       1.293859e+09  \n",
       " thinness  1-19 years            2.720000e+01  \n",
       " thinness 5-9 years              2.820000e+01  \n",
       "Income composition of resources  9.360000e-01  \n",
       "Schooling                        2.070000e+01  "
      ]
     },
     "execution_count": 56,
     "metadata": {},
     "output_type": "execute_result"
    }
   ],
   "source": [
    "df.describe().transpose()"
   ]
  },
  {
   "cell_type": "code",
   "execution_count": 14,
   "metadata": {},
   "outputs": [
    {
     "data": {
      "text/plain": [
       "<AxesSubplot:>"
      ]
     },
     "execution_count": 14,
     "metadata": {},
     "output_type": "execute_result"
    },
    {
     "data": {
      "image/png": "[encoded data removed]",
      "text/plain": [
       "<Figure size 432x288 with 2 Axes>"
      ]
     },
     "metadata": {},
     "output_type": "display_data"
    }
   ],
   "source": [
    "sns.heatmap(df.corr(), square=True, cmap='RdYlGn')"
   ]
  },
  {
   "cell_type": "markdown",
   "metadata": {},
   "source": [
    "# Linear Regression just on feature GDP"
   ]
  },
  {
   "cell_type": "code",
   "execution_count": 17,
   "metadata": {},
   "outputs": [],
   "source": [
    "y = df['Life expectancy '].values\n",
    "X_gdp = df['GDP'].values"
   ]
  },
  {
   "cell_type": "code",
   "execution_count": 58,
   "metadata": {},
   "outputs": [
    {
     "name": "stdout",
     "output_type": "stream",
     "text": [
      "Dimension of y before reshaping: (1649,)\n",
      "Dimension of X before reshaping: (1649, 1)\n"
     ]
    }
   ],
   "source": [
    "print('Dimension of y before reshaping: {}'.format(y.shape))\n",
    "print('Dimension of X before reshaping: {}'.format(X_gdp.shape))"
   ]
  },
  {
   "cell_type": "code",
   "execution_count": 19,
   "metadata": {},
   "outputs": [],
   "source": [
    "y = y.reshape(-1,1)\n",
    "X_gdp = X_gdp.reshape(-1,1)"
   ]
  },
  {
   "cell_type": "code",
   "execution_count": 57,
   "metadata": {},
   "outputs": [
    {
     "name": "stdout",
     "output_type": "stream",
     "text": [
      "Dimension of y after reshaping: (1649,)\n",
      "Dimension of X after reshaping: (1649, 1)\n"
     ]
    }
   ],
   "source": [
    "print('Dimension of y after reshaping: {}'.format(y.shape))\n",
    "print('Dimension of X after reshaping: {}'.format(X_gdp.shape))"
   ]
  },
  {
   "cell_type": "code",
   "execution_count": 21,
   "metadata": {},
   "outputs": [
    {
     "data": {
      "image/png": "[encoded data removed]",
      "text/plain": [
       "<Figure size 1440x576 with 1 Axes>"
      ]
     },
     "metadata": {},
     "output_type": "display_data"
    }
   ],
   "source": [
    "# scatter plot of y vs X_gdp\n",
    "plt.figure(figsize=(20,8))\n",
    "plt.scatter(X_gdp, y)\n",
    "\n",
    "plt.xlabel('GDP')\n",
    "plt.ylabel('Life Expectancy')\n",
    "plt.show()"
   ]
  },
  {
   "cell_type": "code",
   "execution_count": 22,
   "metadata": {},
   "outputs": [],
   "source": [
    "# create the model\n",
    "ln_reg = LinearRegression()"
   ]
  },
  {
   "cell_type": "code",
   "execution_count": 23,
   "metadata": {},
   "outputs": [],
   "source": [
    "# introduce the new X\n",
    "prediction_space = np.linspace(min(X_gdp), max(X_gdp)).reshape(-1,1)"
   ]
  },
  {
   "cell_type": "code",
   "execution_count": 24,
   "metadata": {},
   "outputs": [
    {
     "data": {
      "text/plain": [
       "LinearRegression()"
      ]
     },
     "execution_count": 24,
     "metadata": {},
     "output_type": "execute_result"
    }
   ],
   "source": [
    "# fitting the data\n",
    "ln_reg.fit(X_gdp, y)"
   ]
  },
  {
   "cell_type": "code",
   "execution_count": 25,
   "metadata": {},
   "outputs": [],
   "source": [
    "# predicting the labels for new X\n",
    "y_pred = ln_reg.predict(prediction_space)"
   ]
  },
  {
   "cell_type": "code",
   "execution_count": 26,
   "metadata": {},
   "outputs": [
    {
     "name": "stdout",
     "output_type": "stream",
     "text": [
      "1.0\n"
     ]
    }
   ],
   "source": [
    "# print R^2\n",
    "print(ln_reg.score(prediction_space, y_pred))"
   ]
  },
  {
   "cell_type": "code",
   "execution_count": 27,
   "metadata": {},
   "outputs": [
    {
     "data": {
      "image/png": "[encoded data removed]",
      "text/plain": [
       "<Figure size 1440x576 with 1 Axes>"
      ]
     },
     "metadata": {},
     "output_type": "display_data"
    }
   ],
   "source": [
    "# plotting th eregression line on original data\n",
    "plt.figure(figsize=(20,8))\n",
    "plt.scatter(X_gdp, y)\n",
    "plt.plot(prediction_space, y_pred, color='black', linewidth=3)\n",
    "\n",
    "plt.xlabel('GDP')\n",
    "plt.ylabel('Life Expectancy')\n",
    "plt.show()"
   ]
  },
  {
   "cell_type": "markdown",
   "metadata": {},
   "source": [
    "# Linear Regression on all features"
   ]
  },
  {
   "cell_type": "code",
   "execution_count": 29,
   "metadata": {},
   "outputs": [],
   "source": [
    "# deleting the non numeric values\n",
    "df = df.drop(['Country','Year','Status'], axis=1)"
   ]
  },
  {
   "cell_type": "code",
   "execution_count": 30,
   "metadata": {},
   "outputs": [
    {
     "data": {
      "text/html": [
       "<div>\n",
       "<style scoped>\n",
       "    .dataframe tbody tr th:only-of-type {\n",
       "        vertical-align: middle;\n",
       "    }\n",
       "\n",
       "    .dataframe tbody tr th {\n",
       "        vertical-align: top;\n",
       "    }\n",
       "\n",
       "    .dataframe thead th {\n",
       "        text-align: right;\n",
       "    }\n",
       "</style>\n",
       "<table border=\"1\" class=\"dataframe\">\n",
       "  <thead>\n",
       "    <tr style=\"text-align: right;\">\n",
       "      <th></th>\n",
       "      <th>Life expectancy</th>\n",
       "      <th>Adult Mortality</th>\n",
       "      <th>infant deaths</th>\n",
       "      <th>Alcohol</th>\n",
       "      <th>percentage expenditure</th>\n",
       "      <th>Hepatitis B</th>\n",
       "      <th>Measles</th>\n",
       "      <th>BMI</th>\n",
       "      <th>under-five deaths</th>\n",
       "      <th>Polio</th>\n",
       "      <th>Total expenditure</th>\n",
       "      <th>Diphtheria</th>\n",
       "      <th>HIV/AIDS</th>\n",
       "      <th>GDP</th>\n",
       "      <th>Population</th>\n",
       "      <th>thinness  1-19 years</th>\n",
       "      <th>thinness 5-9 years</th>\n",
       "      <th>Income composition of resources</th>\n",
       "      <th>Schooling</th>\n",
       "    </tr>\n",
       "  </thead>\n",
       "  <tbody>\n",
       "    <tr>\n",
       "      <th>0</th>\n",
       "      <td>65.0</td>\n",
       "      <td>263.0</td>\n",
       "      <td>62</td>\n",
       "      <td>0.01</td>\n",
       "      <td>71.279624</td>\n",
       "      <td>65.0</td>\n",
       "      <td>1154</td>\n",
       "      <td>19.1</td>\n",
       "      <td>83</td>\n",
       "      <td>6.0</td>\n",
       "      <td>8.16</td>\n",
       "      <td>65.0</td>\n",
       "      <td>0.1</td>\n",
       "      <td>584.259210</td>\n",
       "      <td>33736494.0</td>\n",
       "      <td>17.2</td>\n",
       "      <td>17.3</td>\n",
       "      <td>0.479</td>\n",
       "      <td>10.1</td>\n",
       "    </tr>\n",
       "    <tr>\n",
       "      <th>1</th>\n",
       "      <td>59.9</td>\n",
       "      <td>271.0</td>\n",
       "      <td>64</td>\n",
       "      <td>0.01</td>\n",
       "      <td>73.523582</td>\n",
       "      <td>62.0</td>\n",
       "      <td>492</td>\n",
       "      <td>18.6</td>\n",
       "      <td>86</td>\n",
       "      <td>58.0</td>\n",
       "      <td>8.18</td>\n",
       "      <td>62.0</td>\n",
       "      <td>0.1</td>\n",
       "      <td>612.696514</td>\n",
       "      <td>327582.0</td>\n",
       "      <td>17.5</td>\n",
       "      <td>17.5</td>\n",
       "      <td>0.476</td>\n",
       "      <td>10.0</td>\n",
       "    </tr>\n",
       "    <tr>\n",
       "      <th>2</th>\n",
       "      <td>59.9</td>\n",
       "      <td>268.0</td>\n",
       "      <td>66</td>\n",
       "      <td>0.01</td>\n",
       "      <td>73.219243</td>\n",
       "      <td>64.0</td>\n",
       "      <td>430</td>\n",
       "      <td>18.1</td>\n",
       "      <td>89</td>\n",
       "      <td>62.0</td>\n",
       "      <td>8.13</td>\n",
       "      <td>64.0</td>\n",
       "      <td>0.1</td>\n",
       "      <td>631.744976</td>\n",
       "      <td>31731688.0</td>\n",
       "      <td>17.7</td>\n",
       "      <td>17.7</td>\n",
       "      <td>0.470</td>\n",
       "      <td>9.9</td>\n",
       "    </tr>\n",
       "    <tr>\n",
       "      <th>3</th>\n",
       "      <td>59.5</td>\n",
       "      <td>272.0</td>\n",
       "      <td>69</td>\n",
       "      <td>0.01</td>\n",
       "      <td>78.184215</td>\n",
       "      <td>67.0</td>\n",
       "      <td>2787</td>\n",
       "      <td>17.6</td>\n",
       "      <td>93</td>\n",
       "      <td>67.0</td>\n",
       "      <td>8.52</td>\n",
       "      <td>67.0</td>\n",
       "      <td>0.1</td>\n",
       "      <td>669.959000</td>\n",
       "      <td>3696958.0</td>\n",
       "      <td>17.9</td>\n",
       "      <td>18.0</td>\n",
       "      <td>0.463</td>\n",
       "      <td>9.8</td>\n",
       "    </tr>\n",
       "    <tr>\n",
       "      <th>4</th>\n",
       "      <td>59.2</td>\n",
       "      <td>275.0</td>\n",
       "      <td>71</td>\n",
       "      <td>0.01</td>\n",
       "      <td>7.097109</td>\n",
       "      <td>68.0</td>\n",
       "      <td>3013</td>\n",
       "      <td>17.2</td>\n",
       "      <td>97</td>\n",
       "      <td>68.0</td>\n",
       "      <td>7.87</td>\n",
       "      <td>68.0</td>\n",
       "      <td>0.1</td>\n",
       "      <td>63.537231</td>\n",
       "      <td>2978599.0</td>\n",
       "      <td>18.2</td>\n",
       "      <td>18.2</td>\n",
       "      <td>0.454</td>\n",
       "      <td>9.5</td>\n",
       "    </tr>\n",
       "  </tbody>\n",
       "</table>\n",
       "</div>"
      ],
      "text/plain": [
       "   Life expectancy   Adult Mortality  infant deaths  Alcohol  \\\n",
       "0              65.0            263.0             62     0.01   \n",
       "1              59.9            271.0             64     0.01   \n",
       "2              59.9            268.0             66     0.01   \n",
       "3              59.5            272.0             69     0.01   \n",
       "4              59.2            275.0             71     0.01   \n",
       "\n",
       "   percentage expenditure  Hepatitis B  Measles    BMI   under-five deaths   \\\n",
       "0               71.279624         65.0      1154   19.1                  83   \n",
       "1               73.523582         62.0       492   18.6                  86   \n",
       "2               73.219243         64.0       430   18.1                  89   \n",
       "3               78.184215         67.0      2787   17.6                  93   \n",
       "4                7.097109         68.0      3013   17.2                  97   \n",
       "\n",
       "   Polio  Total expenditure  Diphtheria    HIV/AIDS         GDP  Population  \\\n",
       "0    6.0               8.16         65.0        0.1  584.259210  33736494.0   \n",
       "1   58.0               8.18         62.0        0.1  612.696514    327582.0   \n",
       "2   62.0               8.13         64.0        0.1  631.744976  31731688.0   \n",
       "3   67.0               8.52         67.0        0.1  669.959000   3696958.0   \n",
       "4   68.0               7.87         68.0        0.1   63.537231   2978599.0   \n",
       "\n",
       "    thinness  1-19 years   thinness 5-9 years  \\\n",
       "0                   17.2                 17.3   \n",
       "1                   17.5                 17.5   \n",
       "2                   17.7                 17.7   \n",
       "3                   17.9                 18.0   \n",
       "4                   18.2                 18.2   \n",
       "\n",
       "   Income composition of resources  Schooling  \n",
       "0                            0.479       10.1  \n",
       "1                            0.476       10.0  \n",
       "2                            0.470        9.9  \n",
       "3                            0.463        9.8  \n",
       "4                            0.454        9.5  "
      ]
     },
     "execution_count": 30,
     "metadata": {},
     "output_type": "execute_result"
    }
   ],
   "source": [
    "df.head()"
   ]
  },
  {
   "cell_type": "code",
   "execution_count": 31,
   "metadata": {},
   "outputs": [],
   "source": [
    "# labels(y) and data(X_all)\n",
    "y = df['Life expectancy '].values\n",
    "X_all = df.drop(['Life expectancy '], axis=1).values"
   ]
  },
  {
   "cell_type": "code",
   "execution_count": 32,
   "metadata": {},
   "outputs": [],
   "source": [
    "# splitting the data to train and test parts\n",
    "X_train, X_test, y_train, y_test = train_test_split(X_all, y, test_size=0.3, random_state=42)"
   ]
  },
  {
   "cell_type": "code",
   "execution_count": 33,
   "metadata": {},
   "outputs": [],
   "source": [
    "# create the model\n",
    "ln_reg_all = LinearRegression()"
   ]
  },
  {
   "cell_type": "code",
   "execution_count": 34,
   "metadata": {},
   "outputs": [
    {
     "data": {
      "text/plain": [
       "LinearRegression()"
      ]
     },
     "execution_count": 34,
     "metadata": {},
     "output_type": "execute_result"
    }
   ],
   "source": [
    "# fitting the model to the train data\n",
    "ln_reg_all.fit(X_train, y_train)"
   ]
  },
  {
   "cell_type": "code",
   "execution_count": 35,
   "metadata": {},
   "outputs": [],
   "source": [
    "# predicting the data\n",
    "y_pred = ln_reg_all.predict(X_test)"
   ]
  },
  {
   "cell_type": "code",
   "execution_count": 36,
   "metadata": {},
   "outputs": [
    {
     "name": "stdout",
     "output_type": "stream",
     "text": [
      "R^2: 0.8260950560444262\n",
      "rmse: 3.7065135890087815\n"
     ]
    }
   ],
   "source": [
    "# accuracy\n",
    "print('R^2: {}'.format(ln_reg_all.score(X_test, y_test)))\n",
    "print('rmse: {}'.format(np.sqrt(mean_squared_error(y_pred, y_test))))"
   ]
  },
  {
   "cell_type": "markdown",
   "metadata": {},
   "source": [
    "# K-Fold Cross Validation Comparison"
   ]
  },
  {
   "cell_type": "code",
   "execution_count": 38,
   "metadata": {},
   "outputs": [],
   "source": [
    "y = df['Life expectancy '].values\n",
    "X_all = df.drop(['Life expectancy '], axis=1).values"
   ]
  },
  {
   "cell_type": "code",
   "execution_count": 39,
   "metadata": {},
   "outputs": [],
   "source": [
    "X_train, X_test, y_train, y_test = train_test_split(X_all, y, test_size=0.3, random_state=42)"
   ]
  },
  {
   "cell_type": "code",
   "execution_count": 40,
   "metadata": {},
   "outputs": [],
   "source": [
    "cv_reg = LinearRegression()"
   ]
  },
  {
   "cell_type": "code",
   "execution_count": 41,
   "metadata": {},
   "outputs": [
    {
     "name": "stdout",
     "output_type": "stream",
     "text": [
      "[0.82427072 0.82372506 0.78087243]\n",
      "Average 3-Fold CV Score is: 0.8096227359731715\n",
      "\n",
      "[0.8430908  0.74407898 0.82133086 0.77444936]\n",
      "Average 4-Fold CV Score is: 0.795737500408852\n",
      "\n",
      "[0.83532928 0.77805879 0.83898485 0.70770205 0.78634137]\n",
      "Average 5-Fold CV Score is: 0.7892832697213066\n",
      "\n",
      "[0.81735793 0.82143188 0.77577538 0.84463851 0.66140695 0.83198793]\n",
      "Average 6-Fold CV Score is: 0.7920997646349605\n",
      "\n",
      "[0.80933202 0.86613602 0.75362869 0.83710821 0.75510939 0.77061355\n",
      " 0.81228645]\n",
      "Average 7-Fold CV Score is: 0.80060204810926\n",
      "\n",
      "[0.78342688 0.87973022 0.71515519 0.77379143 0.85760046 0.72701262\n",
      " 0.76504128 0.80386685]\n",
      "Average 8-Fold CV Score is: 0.7882031162539904\n",
      "\n",
      "[0.79141407 0.85407169 0.69457591 0.80109074 0.8200655  0.79415007\n",
      " 0.63193609 0.78059906 0.80506281]\n",
      "Average 9-Fold CV Score is: 0.7747739921873288\n",
      "\n"
     ]
    }
   ],
   "source": [
    "cv_list = np.array([3,4,5,6,7,8,9])\n",
    "\n",
    "for cv in cv_list:\n",
    "    cv_scores = cross_val_score(cv_reg, X_all, y, cv=cv)\n",
    "    print(cv_scores)\n",
    "    print('Average ' + str(cv) + '-Fold CV Score is: {}'.format(np.mean(cv_scores)))\n",
    "    print()"
   ]
  },
  {
   "cell_type": "markdown",
   "metadata": {},
   "source": [
    "# Regularization 1: Lasso\n",
    "#In this linear regression method the less important features are shrunk to 0 and only the most imprtant ones remain!"
   ]
  },
  {
   "cell_type": "code",
   "execution_count": 43,
   "metadata": {},
   "outputs": [],
   "source": [
    "y = df['Life expectancy '].values\n",
    "X_all = df.drop(['Life expectancy '], axis=1).values"
   ]
  },
  {
   "cell_type": "code",
   "execution_count": 44,
   "metadata": {},
   "outputs": [],
   "source": [
    "# create Lasso model\n",
    "reg_lasso = Lasso(alpha=0.4, normalize=True)"
   ]
  },
  {
   "cell_type": "code",
   "execution_count": 45,
   "metadata": {},
   "outputs": [
    {
     "data": {
      "text/plain": [
       "Lasso(alpha=0.4, normalize=True)"
      ]
     },
     "execution_count": 45,
     "metadata": {},
     "output_type": "execute_result"
    }
   ],
   "source": [
    "reg_lasso.fit(X_all, y)"
   ]
  },
  {
   "cell_type": "code",
   "execution_count": 46,
   "metadata": {},
   "outputs": [
    {
     "name": "stdout",
     "output_type": "stream",
     "text": [
      "[-0. -0.  0.  0.  0. -0.  0. -0.  0.  0.  0. -0.  0. -0. -0. -0.  0.  0.]\n"
     ]
    }
   ],
   "source": [
    "lasso_coef = reg_lasso.fit(X_all, y).coef_\n",
    "print(lasso_coef)"
   ]
  },
  {
   "cell_type": "code",
   "execution_count": 47,
   "metadata": {},
   "outputs": [],
   "source": [
    "# create a list of columns except of (Life expactancy)\n",
    "df_columns = ['Adult Mortality',\n",
    "       'infant deaths', 'Alcohol', 'percentage expenditure', 'Hepatitis B',\n",
    "       'Measles ', ' BMI ', 'under-five deaths ', 'Polio', 'Total expenditure',\n",
    "       'Diphtheria ', ' HIV/AIDS', 'GDP', 'Population',\n",
    "       ' thinness  1-19 years', ' thinness 5-9 years',\n",
    "       'Income composition of resources', 'Schooling']"
   ]
  },
  {
   "cell_type": "code",
   "execution_count": 48,
   "metadata": {},
   "outputs": [
    {
     "data": {
      "image/png": "[encoded data removed]",
      "text/plain": [
       "<Figure size 1080x576 with 1 Axes>"
      ]
     },
     "metadata": {},
     "output_type": "display_data"
    }
   ],
   "source": [
    "# ploting the Lasso coefficients\n",
    "plt.figure(figsize=(15,8))\n",
    "plt.plot(range(len(df_columns)), lasso_coef)\n",
    "\n",
    "plt.xticks(range(len(df_columns)), df_columns, rotation=60)\n",
    "plt.margins(0.1)\n",
    "plt.show()"
   ]
  },
  {
   "cell_type": "markdown",
   "metadata": {},
   "source": [
    "# Regularization 2: Ridge"
   ]
  },
  {
   "cell_type": "code",
   "execution_count": 50,
   "metadata": {},
   "outputs": [],
   "source": [
    "# function for displaying plots\n",
    "def display_plot(cv_scores, cv_scores_std):\n",
    "    fig = plt.figure()\n",
    "    ax = fig.add_subplot(1,1,1)\n",
    "    ax.plot(alpha_space, cv_scores)\n",
    "    \n",
    "    std_error = cv_scores_std / np.sqrt(10)\n",
    "    \n",
    "    ax.fill_between(alpha_space, cv_scores + std_error, cv_scores - std_error)\n",
    "    ax.set_ylabel('CV Score +/- Std Error')\n",
    "    ax.set_xlabel('Alpha')\n",
    "    ax.axhline(np.max(cv_scores), linestyle='--', color='red')\n",
    "    ax.set_xlim([alpha_space[0], alpha_space[-1]])\n",
    "    ax.set_xscale('log')\n",
    "    plt.show()"
   ]
  },
  {
   "cell_type": "code",
   "execution_count": 51,
   "metadata": {},
   "outputs": [],
   "source": [
    "y = df['Life expectancy '].values\n",
    "X_all = df.drop(['Life expectancy '], axis=1).values"
   ]
  },
  {
   "cell_type": "code",
   "execution_count": 52,
   "metadata": {},
   "outputs": [],
   "source": [
    "# list of alphas\n",
    "alpha_space = np.logspace(-4,0,50)\n",
    "ridge_scores = []\n",
    "ridge_scores_std = []"
   ]
  },
  {
   "cell_type": "code",
   "execution_count": 53,
   "metadata": {},
   "outputs": [],
   "source": [
    "# create Ridge regressor\n",
    "ridge_reg = Ridge(normalize=True)"
   ]
  },
  {
   "cell_type": "code",
   "execution_count": 54,
   "metadata": {},
   "outputs": [],
   "source": [
    "# itteration on different alphas\n",
    "for alpha in alpha_space:\n",
    "    ridge_reg.alpha = alpha\n",
    "    ridge_cv_scores = cross_val_score(ridge_reg, X_all, y, cv=10)\n",
    "    \n",
    "    ridge_scores.append(np.mean(ridge_cv_scores))\n",
    "    ridge_scores_std.append(np.std(ridge_cv_scores))"
   ]
  },
  {
   "cell_type": "code",
   "execution_count": 55,
   "metadata": {},
   "outputs": [
    {
     "data": {
      "image/png": "[encoded data removed]",
      "text/plain": [
       "<Figure size 432x288 with 1 Axes>"
      ]
     },
     "metadata": {},
     "output_type": "display_data"
    }
   ],
   "source": [
    "# display the plot\n",
    "display_plot(ridge_scores, ridge_scores_std)"
   ]
  },
  {
   "cell_type": "code",
   "execution_count": null,
   "metadata": {},
   "outputs": [],
   "source": []
  }
 ],
 "metadata": {
  "kernelspec": {
   "display_name": "Python 3",
   "language": "python",
   "name": "python3"
  },
  "language_info": {
   "codemirror_mode": {
    "name": "ipython",
    "version": 3
   },
   "file_extension": ".py",
   "mimetype": "text/x-python",
   "name": "python",
   "nbconvert_exporter": "python",
   "pygments_lexer": "ipython3",
   "version": "3.7.9"
  }
 },
 "nbformat": 4,
 "nbformat_minor": 4
}
